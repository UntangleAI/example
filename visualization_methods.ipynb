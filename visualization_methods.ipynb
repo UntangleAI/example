{
 "cells": [
  {
   "cell_type": "markdown",
   "metadata": {},
   "source": [
    "# Tutorial on Gradient Explanations"
   ]
  },
  {
   "cell_type": "markdown",
   "metadata": {},
   "source": [
    "#### [1] Import relevant packages"
   ]
  },
  {
   "cell_type": "code",
   "execution_count": null,
   "metadata": {},
   "outputs": [],
   "source": [
    "from torchvision import models\n",
    "from untangle.utils.data_util import load_adHoc_image # to load an image as a transformed torch tensor\n",
    "import numpy as np\n",
    "import torch\n",
    "import os\n",
    "from IPython.display import Image\n",
    "from untangle import UntangleAI\n",
    "untangle_ai = UntangleAI() # load and define our package api"
   ]
  },
  {
   "cell_type": "markdown",
   "metadata": {},
   "source": [
    "#### [2] Define configurable parameters, setup IO paths and execution devices (CPU/GPU)"
   ]
  },
  {
   "cell_type": "code",
   "execution_count": null,
   "metadata": {},
   "outputs": [],
   "source": [
    "class Args:\n",
    "    mname = 'vgg19'\n",
    "    img_size = (3,224,224) # a 3-tuple of (CHW)\n",
    "    num_classes = 1000\n",
    "    method = 'vanillaGrad' # one of `vanillaGrad`, `deConvNet`, `guided_bp`, `gradcam`, `saliencyGrad`, `integratedGrad` `smoothgrad`\n",
    "    topk = 5\n",
    "    cmap = 'seismic'\n",
    "    json = False\n",
    "    hm_diff = 'joint'\n",
    "\n",
    "    target_layer_idx = [\"35\"] # only for gradcam\n",
    "\n",
    "    steps = 50 # only for integrated gradients\n",
    "    baseline = None # torch tensor (of shape `input_tensor`) only for integrated gradients\n",
    "\n",
    "    base_method = 'integratedGrad' # only for smooth grad\n",
    "    stdev_spread = 0.25 # only for smooth grad\n",
    "    nsamples = 25 # only for smooth grad\n",
    "    magnitude = True # only for smooth grad\n",
    "\n",
    "args = Args()\n",
    "DEVICE = 'cuda' if torch.cuda.is_available() else 'cpu'\n",
    "module_path = os.path.realpath('.')\n",
    "out_prefix = os.path.join(module_path, '{}/{}_{}'.format('baseline_results', args.mname, args.method))"
   ]
  },
  {
   "cell_type": "markdown",
   "metadata": {},
   "source": [
    "#### [3] Define your torch model and the input to get visual explanation for\n",
    "\n",
    "For the explanation APIs to work, we require (i) true input tensor of shape `HWC` (one of torch tensor, ndArray or PIL Image object), and (ii) the transformed input tensor of shape `BCHW` that is fed as input to the model"
   ]
  },
  {
   "cell_type": "code",
   "execution_count": null,
   "metadata": {},
   "outputs": [],
   "source": [
    "model = models.vgg19(pretrained=True)\n",
    "model = model.to(DEVICE)\n",
    "img_path = 'Scuba_Shark.JPEG'\n",
    "input_tensor, input_img = load_adHoc_image(img_path)\n",
    "input_tensor = input_tensor.to(DEVICE)\n",
    "input_img = np.asarray(input_img)"
   ]
  },
  {
   "cell_type": "markdown",
   "metadata": {},
   "source": [
    "### [4] Visualizations from baseline methods"
   ]
  },
  {
   "cell_type": "markdown",
   "metadata": {},
   "source": [
    "#### [4.1] Vanilla Gradient Explanation\n",
    "\n",
    "Let the gradient of output prediction, $O_k \\in \\textit{class-k}$ w.r.t the input $\\pmb{X}_i$ be given by: $\\nabla_{\\pmb{X}_i} O_k$.\n",
    "This gradient helps in understanding how the change in each input pixel intensity affects the target prediction.\n",
    "\n",
    "The `vanillaGrad()` function computes this gradient and the heatmaps for top-k predictions. The heatmaps are computed for each of the top-k classes as follows:\n",
    "* [a]. Heatmap for each class - A heatmap is computed on the gradient of a specified output class w.r.t the input\n",
    "\n",
    "\n",
    "* [b]. Difference heatmaps - We want to understand strength of gradients of the top class (`class_0`) $\\textit{relative}$ to the gradient of `class_1`, `class_2`, ... `class_k` as follows:\n",
    "    * difference of input gradients of `class_0` and `class_1` i.e., heatmap($ \\textit{Max}\\{ (\\nabla_{\\pmb{X}_i} O_0 - \\nabla_{\\pmb{X}_i} O_1), 0\\}$)\n",
    "    * difference of input gradients of `class_0` and `class_2` i.e., heatmap($ \\textit{Max}\\{ (\\nabla_{\\pmb{X}_i} O_0 - \\nabla_{\\pmb{X}_i} O_2), 0\\}$)\n",
    "    * difference of input gradients of `class_0` and `class_k` i.e., heatmap($ \\textit{Max}\\{ (\\nabla_{\\pmb{X}_i} O_0 - \\nabla_{\\pmb{X}_i} O_k), 0\\}$)\n",
    "\n",
    "\n",
    "* [c]. Inverse Difference heatmaps - We want to understand strength of gradients of prediction classes w.r.t the top prediction as follows:\n",
    "    * difference of input gradients of `class_1` and `class_0` i.e., heatmap($ \\textit{Max}\\{ (\\nabla_{\\pmb{X}_i} O_1 - \\nabla_{\\pmb{X}_i} O_0), 0\\}$)\n",
    "    * difference of input gradients of `class_2` and `class_0` i.e., heatmap($ \\textit{Max}\\{ (\\nabla_{\\pmb{X}_i} O_2 - \\nabla_{\\pmb{X}_i} O_0), 0\\}$)\n",
    "    * difference of input gradients of `class_k` and `class_0` i.e., heatmap($ \\textit{Max}\\{ (\\nabla_{\\pmb{X}_i} O_k - \\nabla_{\\pmb{X}_i} O_0), 0\\}$)\n",
    "    \n",
    "Following naming convention is used to save heatmaps: `modelName_methodName_class_k.JPEG` where `class_0` refers to the top prediction and `class_k` refers to the `k-th` top prediction "
   ]
  },
  {
   "cell_type": "code",
   "execution_count": null,
   "metadata": {},
   "outputs": [],
   "source": [
    "untangle_ai.vanillaGrad(model, input_tensor, input_img, out_prefix, args)"
   ]
  },
  {
   "cell_type": "code",
   "execution_count": null,
   "metadata": {},
   "outputs": [],
   "source": [
    "Image(\"baseline_results/vgg19_vanillaGrad_class_0.JPEG\")"
   ]
  },
  {
   "cell_type": "markdown",
   "metadata": {},
   "source": [
    "#### [4.2] DeConvNet\n",
    "[DeConvNet](https://arxiv.org/abs/1311.2901) inverts the data flow from higher feature maps back to the input image. Specifically, given a non-zero neuron at a higher layer, inverting the data flow shows parts of the input image that most strongly activate this neuron."
   ]
  },
  {
   "cell_type": "code",
   "execution_count": null,
   "metadata": {},
   "outputs": [],
   "source": [
    "class Args:\n",
    "    mname = 'vgg19'\n",
    "    img_size = (3,224,224) # a 3-tuple of (CHW)\n",
    "    num_classes = 1000\n",
    "    method = 'deConvNet' # one of `vanillaGrad`, `deConvNet`, `guided_bp`, `gradcam`, `saliencyGrad`, `integratedGrad` `smoothgrad`\n",
    "    topk = 5\n",
    "    cmap = 'seismic'\n",
    "    json = False\n",
    "    hm_diff = 'joint'\n",
    "\n",
    "    target_layer_idx = [\"35\"] # only for gradcam\n",
    "\n",
    "    steps = 50 # only for integrated gradients\n",
    "    baseline = None # torch tensor (of shape `input_tensor`) only for integrated gradients\n",
    "\n",
    "    base_method = 'integratedGrad' # only for smooth grad\n",
    "    stdev_spread = 0.25 # only for smooth grad\n",
    "    nsamples = 25 # only for smooth grad\n",
    "    magnitude = True # only for smooth grad\n",
    "\n",
    "args = Args()\n",
    "DEVICE = 'cuda' if torch.cuda.is_available() else 'cpu'\n",
    "module_path = os.path.realpath('.')\n",
    "out_prefix = os.path.join(module_path, '{}/{}_{}'.format('baseline_results', args.mname, args.method))\n",
    "\n",
    "untangle_ai.deConvNet(model, input_tensor, input_img, out_prefix, args)\n"
   ]
  },
  {
   "cell_type": "code",
   "execution_count": null,
   "metadata": {},
   "outputs": [],
   "source": [
    "Image(\"baseline_results/vgg19_deConvNet_class_0.JPEG\")"
   ]
  },
  {
   "cell_type": "markdown",
   "metadata": {},
   "source": [
    "#### [4.3] Guided Backprop"
   ]
  },
  {
   "cell_type": "markdown",
   "metadata": {},
   "source": [
    "[Guided BackProp](https://arxiv.org/abs/1412.6806) builds on [DeConvNet](https://arxiv.org/abs/1311.2901) explanation method where negative gradients are set to zero while backpropagating through a ReLu input. "
   ]
  },
  {
   "cell_type": "code",
   "execution_count": null,
   "metadata": {},
   "outputs": [],
   "source": [
    "class Args:\n",
    "    mname = 'vgg19'\n",
    "    img_size = (3,224,224) # a 3-tuple of (CHW)\n",
    "    num_classes = 1000\n",
    "    method = 'guided_bp' # one of `vanillaGrad`, `deConvNet`, `guided_bp`, `gradcam`, `saliencyGrad`, `integratedGrad` `smoothgrad`\n",
    "    topk = 5\n",
    "    cmap = 'seismic'\n",
    "    json = False\n",
    "    hm_diff = 'joint'\n",
    "\n",
    "    target_layer_idx = [\"35\"] # only for gradcam\n",
    "\n",
    "    steps = 50 # only for integrated gradients\n",
    "    baseline = None # torch tensor (of shape `input_tensor`) only for integrated gradients\n",
    "\n",
    "    base_method = 'integratedGrad' # only for smooth grad\n",
    "    stdev_spread = 0.25 # only for smooth grad\n",
    "    nsamples = 25 # only for smooth grad\n",
    "    magnitude = True # only for smooth grad\n",
    "\n",
    "args = Args()\n",
    "DEVICE = 'cuda' if torch.cuda.is_available() else 'cpu'\n",
    "module_path = os.path.realpath('.')\n",
    "out_prefix = os.path.join(module_path, '{}/{}_{}'.format('baseline_results', args.mname, args.method))\n",
    "\n",
    "untangle_ai.guided_bp(model, input_tensor, input_img, out_prefix, args)"
   ]
  },
  {
   "cell_type": "code",
   "execution_count": null,
   "metadata": {},
   "outputs": [],
   "source": [
    "Image(\"baseline_results/vgg19_guided_bp_class_0.JPEG\")"
   ]
  },
  {
   "cell_type": "markdown",
   "metadata": {},
   "source": [
    "#### [4.4] GradCAM\n",
    "\n",
    "[GradCAM](https://arxiv.org/abs/1610.02391) explanations correspond to the gradient of the class score (logit) with respect to the feature map of the last convolutional unit of a DNN. This gradient signal is then resized to the original input dimension usng suitagle interpolai"
   ]
  },
  {
   "cell_type": "code",
   "execution_count": null,
   "metadata": {},
   "outputs": [],
   "source": [
    "class Args:\n",
    "    mname = 'vgg19'\n",
    "    img_size = (3,224,224) # a 3-tuple of (CHW)\n",
    "    num_classes = 1000\n",
    "    method = 'gradcam' # one of `vanillaGrad`, `deConvNet`, `guided_bp`, `gradcam`, `saliencyGrad`, `integratedGrad` `smoothgrad`\n",
    "    topk = 5\n",
    "    cmap = 'seismic'\n",
    "    json = False\n",
    "    hm_diff = 'joint'\n",
    "\n",
    "    target_layer_idx = [\"35\"] # only for gradcam\n",
    "\n",
    "    steps = 50 # only for integrated gradients\n",
    "    baseline = None # torch tensor (of shape `input_tensor`) only for integrated gradients\n",
    "\n",
    "    base_method = 'integratedGrad' # only for smooth grad\n",
    "    stdev_spread = 0.25 # only for smooth grad\n",
    "    nsamples = 25 # only for smooth grad\n",
    "    magnitude = True # only for smooth grad\n",
    "\n",
    "args = Args()\n",
    "DEVICE = 'cuda' if torch.cuda.is_available() else 'cpu'\n",
    "module_path = os.path.realpath('.')\n",
    "out_prefix = os.path.join(module_path, '{}/{}_{}'.format('baseline_results', args.mname, args.method))\n",
    "\n",
    "untangle_ai.gradcam(model, input_tensor, input_img, out_prefix, args)"
   ]
  },
  {
   "cell_type": "code",
   "execution_count": null,
   "metadata": {},
   "outputs": [],
   "source": [
    "Image(\"baseline_results/vgg19_gradcam_class_0.JPEG\")"
   ]
  },
  {
   "cell_type": "markdown",
   "metadata": {},
   "source": [
    "#### [4.5] saliencyGrad\n",
    "\n",
    "Saliency Grad is defined as the absolute value of the gradient of class prediction w.r.t hte input"
   ]
  },
  {
   "cell_type": "code",
   "execution_count": null,
   "metadata": {},
   "outputs": [],
   "source": [
    "class Args:\n",
    "    mname = 'vgg19'\n",
    "    img_size = (3,224,224) # a 3-tuple of (CHW)\n",
    "    num_classes = 1000\n",
    "    method = 'saliencyGrad' # one of `vanillaGrad`, `deConvNet`, `guided_bp`, `gradcam`, `saliencyGrad`, `integratedGrad` `smoothgrad`\n",
    "    topk = 5\n",
    "    cmap = 'seismic'\n",
    "    json = False\n",
    "    hm_diff = 'joint'\n",
    "\n",
    "    target_layer_idx = [\"35\"] # only for gradcam\n",
    "\n",
    "    steps = 50 # only for integrated gradients\n",
    "    baseline = None # torch tensor (of shape `input_tensor`) only for integrated gradients\n",
    "\n",
    "    base_method = 'integratedGrad' # only for smooth grad\n",
    "    stdev_spread = 0.25 # only for smooth grad\n",
    "    nsamples = 25 # only for smooth grad\n",
    "    magnitude = True # only for smooth grad\n",
    "\n",
    "args = Args()\n",
    "DEVICE = 'cuda' if torch.cuda.is_available() else 'cpu'\n",
    "module_path = os.path.realpath('.')\n",
    "out_prefix = os.path.join(module_path, '{}/{}_{}'.format('baseline_results', args.mname, args.method))\n",
    "\n",
    "untangle_ai.saliencyGrad(model, input_tensor, input_img, out_prefix, args)"
   ]
  },
  {
   "cell_type": "code",
   "execution_count": null,
   "metadata": {},
   "outputs": [],
   "source": [
    "Image(\"baseline_results/vgg19_saliencyGrad_class_0.JPEG\")"
   ]
  },
  {
   "cell_type": "markdown",
   "metadata": {},
   "source": [
    "#### [4.5] integratedGrad\n",
    "\n",
    "[Integrated Gradients](https://arxiv.org/abs/1703.01365), $IG(\\pmb{x})$ for a given input $\\pmb{x}$ helps in reducing the saturation in gradients by summing over scaled version of the input.\n",
    "\n",
    "$$IG(x_i) = x_i - (x_0)_i * \\int_{\\alpha=0}^{1} \\frac{\\partial F( (x_0)_i + \\alpha * (x_i - (x_0)_i)  )}{\\partial x_i} \\textit{d}\\alpha  $$"
   ]
  },
  {
   "cell_type": "code",
   "execution_count": null,
   "metadata": {},
   "outputs": [],
   "source": [
    "class Args:\n",
    "    mname = 'vgg19'\n",
    "    img_size = (3,224,224) # a 3-tuple of (CHW)\n",
    "    num_classes = 1000\n",
    "    method = 'integratedGrad' # one of `vanillaGrad`, `deConvNet`, `guided_bp`, `gradcam`, `saliencyGrad`, `integratedGrad` `smoothgrad`\n",
    "    topk = 5\n",
    "    cmap = 'seismic'\n",
    "    json = False\n",
    "    hm_diff = 'joint'\n",
    "\n",
    "    target_layer_idx = [\"35\"] # only for gradcam\n",
    "\n",
    "    steps = 50 # only for integrated gradients\n",
    "    baseline = None # torch tensor (of shape `input_tensor`) only for integrated gradients\n",
    "\n",
    "    base_method = 'integratedGrad' # only for smooth grad\n",
    "    stdev_spread = 0.25 # only for smooth grad\n",
    "    nsamples = 25 # only for smooth grad\n",
    "    magnitude = True # only for smooth grad\n",
    "\n",
    "args = Args()\n",
    "DEVICE = 'cuda' if torch.cuda.is_available() else 'cpu'\n",
    "module_path = os.path.realpath('.')\n",
    "out_prefix = os.path.join(module_path, '{}/{}_{}'.format('baseline_results', args.mname, args.method))\n",
    "\n",
    "untangle_ai.integratedGrad(model, input_tensor, input_img, out_prefix, args)"
   ]
  },
  {
   "cell_type": "code",
   "execution_count": null,
   "metadata": {},
   "outputs": [],
   "source": [
    "Image(\"baseline_results/vgg19_integratedGrad_class_0.JPEG\")"
   ]
  },
  {
   "cell_type": "markdown",
   "metadata": {},
   "source": [
    "#### [4.5] SmoothGrad\n",
    "\n",
    "[SmoothGrad](https://arxiv.org/pdf/1706.03825.pdf) is a meta algorithm that sits on top of a given gradient explanation method. It tries to suppress noise in the gradients by averaging gradients across multiple noisy versions of the input. For a given input $\\pmb{x}$, the smoothGrad gradient, $SG(\\pmb{x})$ is given by:\n",
    "\n",
    "$$SG(\\pmb{x}) = \\sum_{i=1}^n \\nabla_{\\pmb{x} + g_i} O_k$$ where $\\pmb{g}_i \\sim \\mathcal{N}(\\mu,\\sigma^2)$ are drawn i.i.d from a Normal distribution."
   ]
  },
  {
   "cell_type": "code",
   "execution_count": null,
   "metadata": {},
   "outputs": [],
   "source": [
    "class Args:\n",
    "    mname = 'vgg19'\n",
    "    img_size = (3,224,224) # a 3-tuple of (CHW)\n",
    "    num_classes = 1000\n",
    "    method = 'smoothgrad' # one of `vanillaGrad`, `deConvNet`, `guided_bp`, `gradcam`, `saliencyGrad`, `integratedGrad` `smoothgrad`\n",
    "    topk = 5\n",
    "    cmap = 'seismic'\n",
    "    json = False\n",
    "    hm_diff = 'joint'\n",
    "\n",
    "    target_layer_idx = [\"35\"] # only for gradcam\n",
    "\n",
    "    steps = 50 # only for integrated gradients\n",
    "    baseline = None # torch tensor (of shape `input_tensor`) only for integrated gradients\n",
    "\n",
    "    base_method = 'guided_bp' # only for smooth grad\n",
    "    stdev_spread = 0.25 # only for smooth grad\n",
    "    nsamples = 25 # only for smooth grad\n",
    "    magnitude = True # only for smooth grad\n",
    "\n",
    "args = Args()\n",
    "DEVICE = 'cuda' if torch.cuda.is_available() else 'cpu'\n",
    "module_path = os.path.realpath('.')\n",
    "\n",
    "base_explainer = untangle_ai.get_explainer(args.base_method, model, args)\n",
    "out_prefix = os.path.join(module_path, '{}/{}_{}_{}'.format('baseline_results', args.mname, args.base_method, args.method))\n",
    "untangle_ai.smoothgrad(model, base_explainer, input_tensor, input_img, out_prefix, args)"
   ]
  },
  {
   "cell_type": "code",
   "execution_count": null,
   "metadata": {},
   "outputs": [],
   "source": [
    "Image('/home/jupyter/untangleTest/baseline_results/vgg19_guided_bp_smoothgrad_class_0.JPEG')"
   ]
  }
 ],
 "metadata": {
  "kernelspec": {
   "display_name": "Python 3",
   "language": "python",
   "name": "python3"
  },
  "language_info": {
   "codemirror_mode": {
    "name": "ipython",
    "version": 3
   },
   "file_extension": ".py",
   "mimetype": "text/x-python",
   "name": "python",
   "nbconvert_exporter": "python",
   "pygments_lexer": "ipython3",
   "version": "3.5.3"
  }
 },
 "nbformat": 4,
 "nbformat_minor": 2
}
